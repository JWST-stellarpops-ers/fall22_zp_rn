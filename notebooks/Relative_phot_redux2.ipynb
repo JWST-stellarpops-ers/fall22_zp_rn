{
 "cells": [
  {
   "cell_type": "markdown",
   "id": "21aa308c",
   "metadata": {},
   "source": [
    "# Find ZP offset between NIRCam SCAs using the M92 data\n",
    "\n",
    "Note: this version works with the M92 catalogs dubbed \"redux2\", i.e. catalogs derived from a second reduction of the original data, using an updated version of the pipeline"
   ]
  },
  {
   "cell_type": "code",
   "execution_count": null,
   "id": "207cd144",
   "metadata": {},
   "outputs": [],
   "source": [
    "import pandas as pd\n",
    "import numpy as np\n",
    "import matplotlib.pyplot as plt\n",
    "from sklearn.model_selection import GridSearchCV\n",
    "from sklearn.model_selection import LeaveOneOut\n",
    "from sklearn.neighbors import KernelDensity\n",
    "%matplotlib notebook"
   ]
  },
  {
   "cell_type": "code",
   "execution_count": null,
   "id": "91d5eb13",
   "metadata": {},
   "outputs": [],
   "source": [
    "def m92_chip_number(data):\n",
    "    chipnum = np.empty(len(data['x']), dtype='U2')\n",
    "    # LONG LINE ACROSS CENTER\n",
    "    x=np.arange(0,10000,1)\n",
    "    m1 = (5722-4126)/(479-9849)\n",
    "    b1 = 5722 - m1*(479)\n",
    "    y1=m1*x+b1\n",
    "    # FIRST\n",
    "    x2=np.arange(1900,3000)\n",
    "    m2 = (7445-3445)/(2821-2114)\n",
    "    b2 = 7445 - 2821*m2\n",
    "    y2=m2*x2+b2\n",
    "    # SECOND\n",
    "    x3 = np.arange(4500,6000)\n",
    "    m3 = (7064-2976)/(5664 - 4806)\n",
    "    b3 = 7064 - 5664*m3\n",
    "    y3=m3*x3+b3\n",
    "    # THIRD\n",
    "    x4=np.arange(7500,8300)\n",
    "    m4 = (6561-2552)/(8222-7498)\n",
    "    b4 = 6561 - 8222*m4\n",
    "    y4=m4*x4+b4\n",
    "    yc1 = m1*data['x'] + b1\n",
    "    yc2 = m2*data['x'] + b2\n",
    "    yc3 = m3*data['x'] + b3\n",
    "    yc4 = m4*data['x'] + b4\n",
    "    # CHIP B2\n",
    "    mb2 = (data['y'] > yc1) & (data['y'] > yc2)\n",
    "    chipnum[mb2] = 'b2'\n",
    "    # CHIP B1\n",
    "    mb1 = (data['y'] < yc1) & (data['y'] > yc2)\n",
    "    chipnum[mb1] = 'b1'\n",
    "    # CHIP B4\n",
    "    mb4 = (data['y'] > yc1) & (data['y'] < yc2) & (data['y'] > yc3)\n",
    "    chipnum[mb4] = 'b4'\n",
    "    # CHIP B3\n",
    "    mb3 = (data['y'] < yc1) & (data['y'] < yc2) & (data['y'] > yc3)\n",
    "    chipnum[mb3] = 'b3'\n",
    "    # CHIP A3\n",
    "    ma3 = (data['y'] > yc1)    & (data['y'] > yc4)& (data['y'] < yc3)\n",
    "    chipnum[ma3] = 'a3'\n",
    "    # CHIP A4\n",
    "    ma4 = (data['y'] < yc1)    & (data['y'] > yc4)& (data['y'] < yc3)\n",
    "    chipnum[ma4] = 'a4'\n",
    "    # CHIP A1\n",
    "    ma1 = (data['y'] > yc1)    & (data['y']< yc4)\n",
    "    chipnum[ma1] = 'a1'\n",
    "    # CHIP A2\n",
    "    ma2 = (data['y'] < yc1)    & (data['y']< yc4)\n",
    "    chipnum[ma2] = 'a2'\n",
    "    return chipnum"
   ]
  },
  {
   "cell_type": "markdown",
   "id": "f10b4562",
   "metadata": {},
   "source": [
    "## Read the M92 catalog"
   ]
  },
  {
   "cell_type": "code",
   "execution_count": null,
   "id": "6b6c5f8f",
   "metadata": {},
   "outputs": [],
   "source": [
    "df = pd.read_csv('/Users/gennaro/ERS_sandbox/Data/Full_cats/M92_redux2_all_columns.csv')"
   ]
  },
  {
   "cell_type": "code",
   "execution_count": null,
   "id": "8fea3c11",
   "metadata": {},
   "outputs": [],
   "source": [
    "df.columns"
   ]
  },
  {
   "cell_type": "markdown",
   "id": "284669e6",
   "metadata": {},
   "source": [
    "## Assign each star to its chip"
   ]
  },
  {
   "cell_type": "code",
   "execution_count": null,
   "id": "446c7a5f",
   "metadata": {},
   "outputs": [],
   "source": [
    "data = {'x':df['F150W_xbar'],'y':df['F150W_ybar']}\n",
    "c = m92_chip_number(data)"
   ]
  },
  {
   "cell_type": "code",
   "execution_count": null,
   "id": "04f817cd",
   "metadata": {},
   "outputs": [],
   "source": [
    "chips = [sca+num for sca in ['a','b'] for num in ['1','2','3','4']]"
   ]
  },
  {
   "cell_type": "code",
   "execution_count": null,
   "id": "d688a138",
   "metadata": {},
   "outputs": [],
   "source": [
    "f,ax = plt.subplots(1,1)\n",
    "for chip in chips:\n",
    "    BM = c == chip\n",
    "    ax.scatter(df.loc[BM,'F150W_xbar'],df.loc[BM,'F150W_ybar'],s=1)\n",
    "\n",
    "ax.set_aspect('equal')"
   ]
  },
  {
   "cell_type": "markdown",
   "id": "0e02f9c5",
   "metadata": {},
   "source": [
    "### Apply some strict cuts in order to use only the very good stars"
   ]
  },
  {
   "cell_type": "code",
   "execution_count": null,
   "id": "66c9f1d9",
   "metadata": {},
   "outputs": [],
   "source": [
    "f,ax = plt.subplots(1,1)\n",
    "\n",
    "ax.scatter(df['F090W_mbar'],df['F090W_qbar'],s=1)"
   ]
  },
  {
   "cell_type": "code",
   "execution_count": null,
   "id": "74fc1706",
   "metadata": {},
   "outputs": [],
   "source": [
    "BM_good = (df['F090W_mbar'] < -0.1) & (df['F150W_mbar'] < -0.1) & (df['F150W_qbar'] <.25) & (df['F090W_qbar'] <.25) \\\n",
    "          & (df['F150W_msig'] <0.1) & (df['F090W_msig'] <0.1) & (df['F090W_Ng'] > 2) & (df['F150W_Ng'] > 2)\n",
    "\n",
    "\n",
    "#BM_good = BM_good | True"
   ]
  },
  {
   "cell_type": "markdown",
   "id": "b452ed54",
   "metadata": {},
   "source": [
    "### Some diagnostic plots"
   ]
  },
  {
   "cell_type": "code",
   "execution_count": null,
   "id": "496edd36",
   "metadata": {},
   "outputs": [],
   "source": [
    "f,ax = plt.subplots(2,4,figsize=(10,6),sharex=True,sharey=True)\n",
    "\n",
    "for axx,chip in zip(ax.reshape(-1),chips):\n",
    "    BM = c == chip\n",
    "    axx.scatter(df.loc[BM,'F090W_mbar']-df.loc[BM,'F150W_mbar'],df.loc[BM,'F150W_mbar'],s=1)\n",
    "    axx.scatter(df.loc[BM&BM_good,'F090W_mbar']-df.loc[BM&BM_good,'F150W_mbar'],df.loc[BM&BM_good,'F150W_mbar'],s=1)\n",
    "    axx.set_title(chip)\n",
    "\n",
    "axx.set_xlim(-0.6,.7)\n",
    "axx.set_ylim(-5,-17)\n",
    "f.tight_layout()"
   ]
  },
  {
   "cell_type": "code",
   "execution_count": null,
   "id": "555abca0",
   "metadata": {},
   "outputs": [],
   "source": [
    "f,ax = plt.subplots(2,2,figsize=(10,5),sharex='col',sharey='col')\n",
    "\n",
    "for chip in chips:\n",
    "    BM = c == chip\n",
    "    ax[0,0].hist(df.loc[BM,'F150W_mbar'],label=chip, bins = 100, histtype='step')\n",
    "    ax[0,1].hist(df.loc[BM,'F090W_mbar'],label=chip, bins = 100, histtype='step')\n",
    "    ax[1,0].hist(df.loc[BM&BM_good,'F150W_mbar'],label=chip, bins = 100, histtype='step')\n",
    "    ax[1,1].hist(df.loc[BM&BM_good,'F090W_mbar'],label=chip, bins = 100, histtype='step')\n",
    "\n",
    "ax[0,0].legend();\n",
    "ax[0,1].legend();\n",
    "ax[0,0].set_title('F150W, all')\n",
    "ax[0,1].set_title('F090W, all')\n",
    "ax[1,0].set_title('F150W, selected')\n",
    "ax[1,1].set_title('F090W, selected')\n",
    "\n",
    "ax[0,0].set_yscale('log')\n",
    "ax[0,1].set_yscale('log')\n",
    "\n",
    "f.tight_layout;"
   ]
  },
  {
   "cell_type": "markdown",
   "id": "9ea5408e",
   "metadata": {},
   "source": [
    "## Use kernel density estimate to find the peak of the luminosity function"
   ]
  },
  {
   "cell_type": "markdown",
   "id": "2e401bc3",
   "metadata": {},
   "source": [
    "### Try obtaining the optimal BW"
   ]
  },
  {
   "cell_type": "code",
   "execution_count": null,
   "id": "46775712",
   "metadata": {},
   "outputs": [],
   "source": [
    "optimize = False\n",
    "\n",
    "if optimize:\n",
    "    bf = []\n",
    "    for f in ['F150W_mbar','F090W_mbar']:\n",
    "        bff = []\n",
    "        for chip in chips:\n",
    "            BM = c == chip\n",
    "            x  = df.loc[BM&BM_good,f]\n",
    "\n",
    "            BM2 = (x > -11) & (x < -8)\n",
    "            x = x[BM2]\n",
    "            print('Doing chip, filter:',chip,f)\n",
    "            bandwidths = np.linspace(0.03, 0.13, 21)\n",
    "            grid = GridSearchCV(KernelDensity(kernel='gaussian'),\n",
    "                            {'bandwidth': bandwidths})\n",
    "            grid.fit(np.array(x)[:, None]);\n",
    "            print(grid.best_params_)\n",
    "            bff.append(grid.best_params_)\n",
    "        bf.append(bff)\n",
    "    \n",
    "    "
   ]
  },
  {
   "cell_type": "markdown",
   "id": "e672ed2c",
   "metadata": {},
   "source": [
    "### Use either the optimal or a ad-hoc bandwidth to create the KDE object"
   ]
  },
  {
   "cell_type": "code",
   "execution_count": null,
   "id": "f6c23f65",
   "metadata": {},
   "outputs": [],
   "source": [
    "kdes = []       \n",
    "for i,f in enumerate(['F150W_mbar','F090W_mbar']):\n",
    "    kkdes = []\n",
    "    for j,chip in enumerate(chips):\n",
    "        BM = c == chip\n",
    "        x  = df.loc[BM&BM_good,f]\n",
    "\n",
    "        BM2 = (x > -12) & (x < -8)\n",
    "        x = x[BM2]\n",
    "        print('Doing chip, filter:',chip,f)\n",
    "        if optimize:\n",
    "            print(bf[i][j])\n",
    "            kde = KernelDensity(kernel='gaussian', bandwidth=bf[i][j]['bandwidth']).fit(x.values.reshape(-1, 1))\n",
    "        else:\n",
    "            kde = KernelDensity(kernel='gaussian', bandwidth=0.15).fit(x.values.reshape(-1, 1))\n",
    "        kkdes.append(kde)\n",
    "    kdes.append(kkdes)      "
   ]
  },
  {
   "cell_type": "markdown",
   "id": "58e640d5",
   "metadata": {},
   "source": [
    "### Compute KDE values on a grid"
   ]
  },
  {
   "cell_type": "code",
   "execution_count": null,
   "id": "4cb341a2",
   "metadata": {},
   "outputs": [],
   "source": [
    "score_points = np.linspace(-12.5,-8,451).reshape(-1, 1)\n",
    "\n",
    "scored = []\n",
    "for kde in kdes:\n",
    "    s = []\n",
    "    for k in kde:\n",
    "        print(k)\n",
    "        s.append(k.score_samples(score_points))\n",
    "    scored.append(s)\n"
   ]
  },
  {
   "cell_type": "markdown",
   "id": "6950c75b",
   "metadata": {},
   "source": [
    "### Some plots"
   ]
  },
  {
   "cell_type": "code",
   "execution_count": null,
   "id": "89bc7d26",
   "metadata": {},
   "outputs": [],
   "source": [
    "f,ax = plt.subplots(1,2,figsize=(10,5))\n",
    "\n",
    "for i,chip in enumerate(chips):\n",
    "    BM = c == chip\n",
    "    ax[0].plot(score_points,np.exp(scored[0][i]),label=chip)\n",
    "    ax[1].plot(score_points,np.exp(scored[1][i]),label=chip)\n",
    "\n",
    "ax[0].legend();\n",
    "ax[1].legend();\n",
    "ax[0].set_title('F150W')\n",
    "ax[1].set_title('F090W')"
   ]
  },
  {
   "cell_type": "markdown",
   "id": "97aed73a",
   "metadata": {},
   "source": [
    "### Find the magnitude corresponding to the peak"
   ]
  },
  {
   "cell_type": "code",
   "execution_count": null,
   "id": "75f6ad84",
   "metadata": {},
   "outputs": [],
   "source": [
    "max_mags = []\n",
    "for ss in scored:\n",
    "    mm = []\n",
    "    for s in ss:\n",
    "        imax = np.argmax(s)\n",
    "        mag = score_points[imax,0]\n",
    "        mm.append(mag)\n",
    "    max_mags.append(mm)\n",
    "        "
   ]
  },
  {
   "cell_type": "code",
   "execution_count": null,
   "id": "288f6bfa",
   "metadata": {},
   "outputs": [],
   "source": [
    "for i,f in enumerate(['F150W_mbar','F090W_mbar']):\n",
    "    for j,chip in enumerate(chips):\n",
    "        print('{} {} {:6.2f}'.format(f,chip,max_mags[i][j]))\n"
   ]
  },
  {
   "cell_type": "markdown",
   "id": "915f1871",
   "metadata": {},
   "source": [
    "## Test that the new relative ZP work by looking at the difference in color between teh B1 chip CMD ridge line vs. the other chips"
   ]
  },
  {
   "cell_type": "code",
   "execution_count": null,
   "id": "2537de91",
   "metadata": {},
   "outputs": [],
   "source": [
    "def median_RL(mag,col,start,end,binsize,minnum=10):\n",
    "    \n",
    "    medcol = []\n",
    "    medmag = []\n",
    "    while start < end:\n",
    "        medmag.append(start+binsize/2.)\n",
    "        BM = (mag<(start+binsize)) & (mag>start)\n",
    "        if np.sum(BM) > minnum:\n",
    "            medcol.append(np.median(col[BM]))\n",
    "        else:\n",
    "            medcol.append(np.nan)\n",
    "        start = start+binsize\n",
    "    \n",
    "    return np.array(medcol),np.array(medmag)"
   ]
  },
  {
   "cell_type": "code",
   "execution_count": null,
   "id": "8975f637",
   "metadata": {},
   "outputs": [],
   "source": [
    "medcols = []\n",
    "medmags = []\n",
    "for chip in chips:\n",
    "    BM = (c == chip) & BM_good\n",
    "\n",
    "    mag = df.loc[BM,'F150W_mbar']\n",
    "    col = df.loc[BM,'F090W_mbar']-df.loc[BM,'F150W_mbar']\n",
    "    \n",
    "    mc,mm = median_RL(mag,col,-15,-3,0.05,minnum=10)\n",
    "    medcols.append(mc)\n",
    "    medmags.append(mm)\n",
    "\n",
    "medcols_corr = []\n",
    "medmags_corr = []\n",
    "for i,chip in enumerate(chips):\n",
    "    BM = (c == chip) & BM_good\n",
    "\n",
    "    delta_mag = max_mags[0][4] -max_mags[0][i]\n",
    "    delta_col = max_mags[1][4] -max_mags[1][i] - (max_mags[0][4] -max_mags[0][i])\n",
    "    \n",
    "    mag = df.loc[BM,'F150W_mbar'] + delta_mag\n",
    "    col = df.loc[BM,'F090W_mbar'] - df.loc[BM,'F150W_mbar'] + delta_col\n",
    "    \n",
    "    mc,mm = median_RL(mag,col,-15,-3,0.05,minnum=10)\n",
    "    medcols_corr.append(mc)\n",
    "    medmags_corr.append(mm)\n"
   ]
  },
  {
   "cell_type": "code",
   "execution_count": null,
   "id": "2f017468",
   "metadata": {},
   "outputs": [],
   "source": [
    "max_mags[0]"
   ]
  },
  {
   "cell_type": "code",
   "execution_count": null,
   "id": "0beac4c0",
   "metadata": {},
   "outputs": [],
   "source": [
    "f,ax = plt.subplots(2,4,figsize=(10,6),sharex=True,sharey=True)\n",
    "\n",
    "for axx,chip,mc,mm in zip(ax.reshape(-1),chips,medcols,medmags):\n",
    "    BM = c == chip\n",
    "    axx.scatter(df.loc[BM,'F090W_mbar']-df.loc[BM,'F150W_mbar'],df.loc[BM,'F150W_mbar'],s=1)\n",
    "    axx.scatter(df.loc[BM&BM_good,'F090W_mbar']-df.loc[BM&BM_good,'F150W_mbar'],df.loc[BM&BM_good,'F150W_mbar'],s=1)\n",
    "    axx.plot(mc,mm,'-o',c='r',markersize=3)\n",
    "    axx.set_title(chip)\n",
    "\n",
    "axx.set_xlim(-0.4,.8)\n",
    "axx.set_ylim(-5,-17)\n",
    "\n",
    "f.text(0.5,0.04, \"F090W-F150W (instr)\", ha=\"center\", va=\"center\")\n",
    "f.text(0.05,0.5, \"F150W (instr)\", ha=\"center\", va=\"center\", rotation=90)\n",
    "\n",
    "f.tight_layout(rect=(0.05,0.05,1,1))"
   ]
  },
  {
   "cell_type": "code",
   "execution_count": null,
   "id": "9c160372",
   "metadata": {},
   "outputs": [],
   "source": [
    "f,ax = plt.subplots(1,2,figsize=(10,4),sharex=True,sharey=True)\n",
    "\n",
    "for chip,mc,mcc in zip(chips,medcols,medcols_corr):\n",
    "    ax[0].plot(medmags[0],mc-medcols[4],'-o',markersize=3,label=chip)\n",
    "    ax[1].plot(medmags_corr[0],mcc-medcols_corr[4],'-o',markersize=3,label=chip)\n",
    "    \n",
    "ax[0].legend()\n",
    "ax[1].legend()\n",
    "\n",
    "ax[0].set_ylabel('Ridge Line color delta (chip - b1)')\n",
    "ax[1].set_xlabel('F150W (instr)')\n",
    "ax[0].set_xlabel('F150W (instr)')\n",
    "\n",
    "ax[0].set_title('Before corr')\n",
    "ax[1].set_title('After corr');"
   ]
  },
  {
   "cell_type": "markdown",
   "id": "795c2c48",
   "metadata": {},
   "source": [
    "## Check the looks of the corrected vs uncorrected CMD"
   ]
  },
  {
   "cell_type": "code",
   "execution_count": null,
   "id": "8649fa10",
   "metadata": {},
   "outputs": [],
   "source": [
    "for i,chip in enumerate(chips):\n",
    "    BM = (c == chip) \n",
    "\n",
    "    \n",
    "    df.loc[BM,'F150W_mbar_new'] = df.loc[BM,'F150W_mbar'] + max_mags[0][4] -max_mags[0][i]\n",
    "    df.loc[BM,'F090W_mbar_new'] = df.loc[BM,'F090W_mbar'] + max_mags[1][4] -max_mags[1][i]\n",
    "    \n",
    "    \n"
   ]
  },
  {
   "cell_type": "code",
   "execution_count": null,
   "id": "fb41600d",
   "metadata": {},
   "outputs": [],
   "source": [
    "f,ax = plt.subplots(1,2,figsize=(8,8),sharex=True,sharey=True)\n",
    "\n",
    "ax[0].scatter(df['F090W_mbar']-df['F150W_mbar'],df['F150W_mbar'],s=1)\n",
    "ax[1].scatter(df['F090W_mbar_new']-df['F150W_mbar_new'],df['F150W_mbar_new'],s=1)\n",
    "\n",
    "ax[0].set_xlim(-0.5,1)\n",
    "ax[0].set_ylim(-7,-17)\n",
    "\n",
    "ax[0].set_title('Before corr')\n",
    "ax[1].set_title('After corr')\n",
    "\n",
    "f.text(0.5,0.04, \"F090W-F150W (instr)\", ha=\"center\", va=\"center\")\n",
    "f.text(0.05,0.5, \"F150W (instr)\", ha=\"center\", va=\"center\", rotation=90)\n",
    "\n",
    "f.tight_layout(rect=(0.05,0.05,.9,1))"
   ]
  },
  {
   "cell_type": "code",
   "execution_count": null,
   "id": "bdbbfea7",
   "metadata": {},
   "outputs": [],
   "source": []
  }
 ],
 "metadata": {
  "kernelspec": {
   "display_name": "Python 3 (ipykernel)",
   "language": "python",
   "name": "python3"
  },
  "language_info": {
   "codemirror_mode": {
    "name": "ipython",
    "version": 3
   },
   "file_extension": ".py",
   "mimetype": "text/x-python",
   "name": "python",
   "nbconvert_exporter": "python",
   "pygments_lexer": "ipython3",
   "version": "3.9.12"
  },
  "toc": {
   "base_numbering": 1,
   "nav_menu": {},
   "number_sections": true,
   "sideBar": true,
   "skip_h1_title": true,
   "title_cell": "Table of Contents",
   "title_sidebar": "Contents",
   "toc_cell": false,
   "toc_position": {},
   "toc_section_display": true,
   "toc_window_display": false
  }
 },
 "nbformat": 4,
 "nbformat_minor": 5
}
